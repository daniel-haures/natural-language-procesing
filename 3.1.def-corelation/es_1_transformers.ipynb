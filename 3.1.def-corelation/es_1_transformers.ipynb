{
 "cells": [
  {
   "cell_type": "code",
   "execution_count": 1,
   "metadata": {},
   "outputs": [],
   "source": [
    "from sentence_transformers import SentenceTransformer, util\n",
    "import pandas as pd\n",
    "import itertools\n",
    "model = SentenceTransformer('all-mpnet-base-v2')"
   ]
  },
  {
   "cell_type": "code",
   "execution_count": 5,
   "metadata": {},
   "outputs": [
    {
     "name": "stdout",
     "output_type": "stream",
     "text": [
      "\n",
      "\n",
      "\t\tAstratto\tConcreto\n",
      "Generico\tcloud\t\tpen\n",
      "Specifico\tontology\tcigarette\n",
      "\n",
      "\n",
      "\t\t Astratto\t\t Concreto\n",
      "Generico\t 0.45918676257133484 \t 0.7466999292373657\n",
      "Specifico\t 0.5505263209342957 \t 0.7130210995674133\n"
     ]
    }
   ],
   "source": [
    "csv=pd.read_csv('data\\\\TLN-definitions-24.csv')[:14]\n",
    "\n",
    "definitions=[]\n",
    "definitions.append(csv[\"pen\"].astype(str).tolist())\n",
    "definitions.append(csv[\"cigarette\"].astype(str).tolist())\n",
    "definitions.append(csv[\"cloud\"].astype(str).tolist())\n",
    "definitions.append(csv[\"ontology\"].astype(str).tolist())\n",
    "\n",
    "for i in range(0,4):\n",
    "    definitions[i] = list(filter(lambda s: len(s.split()) > 6, definitions[i]))\n",
    "\n",
    "definitions_corelation=[]\n",
    "\n",
    "for i in range(0,4):\n",
    "    combinations=list(itertools.combinations(definitions[i],2))\n",
    "    similarity=0\n",
    "    for tuple in combinations:\n",
    "        encoded_0 = model.encode(tuple[0])\n",
    "        encoded_1 = model.encode(tuple[1])\n",
    "        similarity = similarity + util.pytorch_cos_sim(encoded_0,encoded_1)\n",
    "    definitions_corelation.append(similarity/len(combinations))\n",
    "\n",
    "\n",
    "print('\\n')\n",
    "print('\\t\\tAstratto\\tConcreto')\n",
    "print('Generico\\tcloud\\t\\tpen')\n",
    "print('Specifico\\tontology\\tcigarette')\n",
    "print('\\n')\n",
    "print('\\t\\t Astratto\\t\\t Concreto')\n",
    "print('Generico\\t', definitions_corelation[2].item(), '\\t',definitions_corelation[0].item())\n",
    "print('Specifico\\t', definitions_corelation[3].item(), '\\t', definitions_corelation[1].item())"
   ]
  }
 ],
 "metadata": {
  "kernelspec": {
   "display_name": ".venv",
   "language": "python",
   "name": "python3"
  },
  "language_info": {
   "codemirror_mode": {
    "name": "ipython",
    "version": 3
   },
   "file_extension": ".py",
   "mimetype": "text/x-python",
   "name": "python",
   "nbconvert_exporter": "python",
   "pygments_lexer": "ipython3",
   "version": "3.10.0"
  }
 },
 "nbformat": 4,
 "nbformat_minor": 2
}
