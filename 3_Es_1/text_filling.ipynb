{
 "cells": [
  {
   "cell_type": "code",
   "execution_count": 37,
   "metadata": {},
   "outputs": [],
   "source": [
    "import nltk\n",
    "import string\n",
    "from collections import Counter\n",
    "import math"
   ]
  },
  {
   "cell_type": "code",
   "execution_count": 36,
   "metadata": {},
   "outputs": [
    {
     "name": "stdout",
     "output_type": "stream",
     "text": [
      "[['ciao', 'caro', 'ti', 'piace', 'ammazza'], ['ti', 'piace', 'ammazza', 'aa', 'aaa'], ['ammazza', 'aa', 'aaa', 'aaa', 'aaa'], ['aaa', 'aaa', 'aaa', 'aaa', 'aaa'], ['aaa', 'aaa', 'aaa', 'aa', 'assd'], ['aaa', 'aa', 'assd', 'asdsd', 'asdsad'], ['assd', 'asdsd', 'asdsad', 'dsadasd', 'sadasd']]\n"
     ]
    }
   ],
   "source": [
    "PUNCTUATION = string.punctuation\n",
    "\n",
    "def create_tokens(sentence,seq_token):\n",
    "    for p in PUNCTUATION:\n",
    "        sentence = sentence.replace(p, ' ')\n",
    "    sentence = nltk.word_tokenize(sentence)\n",
    "    tokens = [w.lower() for w in sentence]\n",
    "    seq_tkns=[]\n",
    "    for i in range(0, len(tokens) - seq_token + 1, seq_token):\n",
    "        seq_tkns.append(tokens[i:i + seq_token])\n",
    "    return seq_tkns\n",
    "\n",
    "\n",
    "def create_blocks(tokens, block_size, overlap_size):\n",
    "    blocks = []\n",
    "    for i in range(0, len(tokens) - block_size + 1, overlap_size):\n",
    "        blocks.append(tokens[i:i + block_size])\n",
    "    return blocks\n",
    "\n",
    "def cosine_similarity(block1,block2):\n",
    "    block1_dict = Counter(block1)\n",
    "    block2_dict = Counter(block2)\n",
    "    words = list(block1_dict.keys() | block2_dict.keys())\n",
    "    numerator=0\n",
    "    for word in words:\n",
    "        numerator+=block1_dict[word]*block2_dict[word]\n",
    "        denominator_1 += block1_dict[word] ** 2\n",
    "        denominator_2 += block2_dict[word] ** 2\n",
    "    cos_sim=numerator / math.sqrt(denominator_1 * denominator_2)\n",
    "    return cos_sim\n",
    "\n",
    "file = open(\"data\\sentences.txt\").read()\n",
    "tokens=create_tokens(file,1)\n",
    "aaa=create_blocks(tokens,5,2)\n",
    "print(aaa)"
   ]
  }
 ],
 "metadata": {
  "kernelspec": {
   "display_name": ".venv",
   "language": "python",
   "name": "python3"
  },
  "language_info": {
   "codemirror_mode": {
    "name": "ipython",
    "version": 3
   },
   "file_extension": ".py",
   "mimetype": "text/x-python",
   "name": "python",
   "nbconvert_exporter": "python",
   "pygments_lexer": "ipython3",
   "version": "3.10.11"
  }
 },
 "nbformat": 4,
 "nbformat_minor": 2
}
