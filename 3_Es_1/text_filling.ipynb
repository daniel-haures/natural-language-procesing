{
 "cells": [
  {
   "cell_type": "code",
   "execution_count": 12,
   "metadata": {},
   "outputs": [],
   "source": [
    "import nltk\n",
    "import string\n",
    "from collections import Counter\n",
    "import math"
   ]
  },
  {
   "cell_type": "code",
   "execution_count": 13,
   "metadata": {},
   "outputs": [
    {
     "name": "stdout",
     "output_type": "stream",
     "text": [
      "[[['ciao'], ['caro'], ['ti'], ['piace'], ['ammazza']], [['ti'], ['piace'], ['ammazza'], ['aa'], ['aaa']], [['ammazza'], ['aa'], ['aaa'], ['aaa'], ['aaa']], [['aaa'], ['aaa'], ['aaa'], ['aaa'], ['aaa']], [['aaa'], ['aaa'], ['aaa'], ['aa'], ['assd']], [['aaa'], ['aa'], ['assd'], ['asdsd'], ['asdsad']], [['assd'], ['asdsd'], ['asdsad'], ['dsadasd'], ['sadasd']]]\n"
     ]
    }
   ],
   "source": [
    "PUNCTUATION = string.punctuation\n",
    "\n",
    "def create_tokens(sentence,seq_token):\n",
    "    for p in PUNCTUATION:\n",
    "        sentence = sentence.replace(p, ' ')\n",
    "    sentence = nltk.word_tokenize(sentence)\n",
    "    tokens = [w.lower() for w in sentence]\n",
    "    seq_tkns=[]\n",
    "    for i in range(0, len(tokens) - seq_token + 1, seq_token):\n",
    "        seq_tkns.append(tokens[i:i + seq_token])\n",
    "    return seq_tkns\n",
    "\n",
    "\n",
    "def create_blocks(tokens, block_size, overlap_size):\n",
    "    blocks = []\n",
    "    for i in range(0, len(tokens) - block_size + 1, overlap_size):\n",
    "        blocks.append(tokens[i:i + block_size])\n",
    "    return blocks\n",
    "\n",
    "def cosine_similarity(block1,block2):\n",
    "    block1_dict = Counter(block1)\n",
    "    block2_dict = Counter(block2)\n",
    "    words = list(block1_dict.keys() | block2_dict.keys())\n",
    "    numerator=0\n",
    "    for word in words:\n",
    "        numerator+=block1_dict[word]*block2_dict[word]\n",
    "        denominator_1 += block1_dict[word] ** 2\n",
    "        denominator_2 += block2_dict[word] ** 2\n",
    "    cos_sim=numerator / math.sqrt(denominator_1 * denominator_2)\n",
    "    return cos_sim\n",
    "\n",
    "def find_section_sep_indices(doc):\n",
    "  \"\"\"Finds all the word index occurrences of '<SECTION_SEP>' in a string doc\"\"\"\n",
    "  indices = []\n",
    "  offset = 0\n",
    "  while True:\n",
    "    i = doc.find('<SECTION_SEP>', offset)\n",
    "    if i == -1:\n",
    "      break\n",
    "    indices.append(i)\n",
    "    offset = i + len('<SECTION_SEP>')\n",
    "  return indices\n",
    "\n",
    "\n",
    "file = open(\"data\\sentences.txt\").read()\n",
    "tokens=create_tokens(file,1)\n",
    "aaa=create_blocks(tokens,5,2)\n",
    "print(aaa)"
   ]
  },
  {
   "cell_type": "code",
   "execution_count": 14,
   "metadata": {},
   "outputs": [
    {
     "name": "stdout",
     "output_type": "stream",
     "text": [
      "[135, 260, 395, 535, 704, 833, 952, 1069, 1240, 1348, 1451, 1534, 1617, 1694, 1813]\n",
      "The apple is a deciduous tree, generally standing 2 to 4.5 metres (6 to 15 feet) tall in cultivation and up to 9 m (30 ft) in the wild.<SENTENCE_SEP>When cultivated, the size, shape and branch density are determined by rootstock selection and trimming method.<SENTENCE_SEP>The leaves are alternately arranged dark green-colored simple ovals with serrated margins and slightly downy undersides.<SENTENCE_SEP>Blossoms are produced in spring simultaneously with the budding of the leaves and are produced on spurs and some long shoots.<SENTENCE_SEP>The 3-to-4-centimeter flowers are white with a pink tinge that gradually fades, five petaled, with an inflorescence consisting of a cyme with 4–6 flowers.<SENTENCE_SEP>The central flower of the inflorescence is called the \"king bloom\"; it opens first and can develop a larger fruit.<SENTENCE_SEP>The fruit is a pome that matures in late summer or autumn, and cultivars exist in a wide range of sizes.<SENTENCE_SEP>Commercial growers aim to produce an apple that is 7 to 8.5 cm  in diameter, due to market preference.<SENTENCE_SEP>Some consumers, especially in Japan, prefer a larger apple, while apples less than 5.5 cm are generally used for juicing and have little fresh market value.<SENTENCE_SEP><SECTION_SEP>The groundcolor of ripe apples is yellow, green, yellow-green or whitish yellow.<SENTENCE_SEP> The overcolor of ripe apples can be orange-red, pink-red, red, purple-red or brown-red.<SENTENCE_SEP> The skin can also be russetted. The overcolor amount can be 0–100%.<SENTENCE_SEP>The skin may also be wholly or partly russeted i.e. rough and brown.<SENTENCE_SEP>The skin is covered in a protective layer of epicuticular wax.<SENTENCE_SEP>The exocarp (flesh) is generally pale yellowish-white, though pink, yellow or green exocarps also occur.<SENTENCE_SEP><SECTION_SEP>Important volatile compounds in apples include acetaldehyde, ethyl acetate, 1-butanal, ethanol, 2-methylbutanal, 3-methylbutanal, ethyl propionate, ethyl 2-methylpropionate, ethyl butyrate, ethyl 2-methyl butyrate, hexanal, 1-butanol, 3-methylbutyl acetate, 2-methylbutyl acetate, 1-propyl butyrate, ethyl pentanoate, amyl acetate, 2-methyl-1-butanol, trans-2-hexenal, ethyl hexanoate, hexanol.\n",
      "['The apple is a deciduous tree, generally standing 2 to 4.5 metres (6 to 15 feet) tall in cultivation and up to 9 m (30 ft) in the wild.', 'When cultivated, the size, shape and branch density are determined by rootstock selection and trimming method.', 'The leaves are alternately arranged dark green-colored simple ovals with serrated margins and slightly downy undersides.', 'Blossoms are produced in spring simultaneously with the budding of the leaves and are produced on spurs and some long shoots.', 'The 3-to-4-centimeter flowers are white with a pink tinge that gradually fades, five petaled, with an inflorescence consisting of a cyme with 4–6 flowers.', 'The central flower of the inflorescence is called the \"king bloom\"; it opens first and can develop a larger fruit.', 'The fruit is a pome that matures in late summer or autumn, and cultivars exist in a wide range of sizes.', 'Commercial growers aim to produce an apple that is 7 to 8.5 cm  in diameter, due to market preference.', 'Some consumers, especially in Japan, prefer a larger apple, while apples less than 5.5 cm are generally used for juicing and have little fresh market value.', '<SECTION_SEP>The groundcolor of ripe apples is yellow, green, yellow-green or whitish yellow.', ' The overcolor of ripe apples can be orange-red, pink-red, red, purple-red or brown-red.', ' The skin can also be russetted. The overcolor amount can be 0–100%.', 'The skin may also be wholly or partly russeted i.e. rough and brown.', 'The skin is covered in a protective layer of epicuticular wax.', 'The exocarp (flesh) is generally pale yellowish-white, though pink, yellow or green exocarps also occur.', '<SECTION_SEP>Important volatile compounds in apples include acetaldehyde, ethyl acetate, 1-butanal, ethanol, 2-methylbutanal, 3-methylbutanal, ethyl propionate, ethyl 2-methylpropionate, ethyl butyrate, ethyl 2-methyl butyrate, hexanal, 1-butanol, 3-methylbutyl acetate, 2-methylbutyl acetate, 1-propyl butyrate, ethyl pentanoate, amyl acetate, 2-methyl-1-butanol, trans-2-hexenal, ethyl hexanoate, hexanol.']\n"
     ]
    }
   ],
   "source": [
    "#Wikipedia definition of apple\n",
    "wiki_apple = \"\"\"The apple is a deciduous tree, generally standing 2 to 4.5 metres (6 to 15 feet) tall in cultivation and up to 9 m (30 ft) in the wild.<SENTENCE_SEP>\n",
    "When cultivated, the size, shape and branch density are determined by rootstock selection and trimming method.<SENTENCE_SEP>\n",
    "The leaves are alternately arranged dark green-colored simple ovals with serrated margins and slightly downy undersides.<SENTENCE_SEP>\n",
    "Blossoms are produced in spring simultaneously with the budding of the leaves and are produced on spurs and some long shoots.<SENTENCE_SEP>\n",
    "The 3-to-4-centimeter flowers are white with a pink tinge that gradually fades, five petaled, with an inflorescence consisting of a cyme with 4–6 flowers.<SENTENCE_SEP>\n",
    "The central flower of the inflorescence is called the \"king bloom\"; it opens first and can develop a larger fruit.<SENTENCE_SEP>\n",
    "The fruit is a pome that matures in late summer or autumn, and cultivars exist in a wide range of sizes.<SENTENCE_SEP>\n",
    "Commercial growers aim to produce an apple that is 7 to 8.5 cm  in diameter, due to market preference.<SENTENCE_SEP>\n",
    "Some consumers, especially in Japan, prefer a larger apple, while apples less than 5.5 cm are generally used for juicing and have little fresh market value.<SENTENCE_SEP><SECTION_SEP>\n",
    "The groundcolor of ripe apples is yellow, green, yellow-green or whitish yellow.<SENTENCE_SEP> \n",
    "The overcolor of ripe apples can be orange-red, pink-red, red, purple-red or brown-red.<SENTENCE_SEP> \n",
    "The skin can also be russetted. The overcolor amount can be 0–100%.<SENTENCE_SEP>\n",
    "The skin may also be wholly or partly russeted i.e. rough and brown.<SENTENCE_SEP>\n",
    "The skin is covered in a protective layer of epicuticular wax.<SENTENCE_SEP>\n",
    "The exocarp (flesh) is generally pale yellowish-white, though pink, yellow or green exocarps also occur.<SENTENCE_SEP><SECTION_SEP>\n",
    "Important volatile compounds in apples include acetaldehyde, ethyl acetate, 1-butanal, ethanol, 2-methylbutanal, 3-methylbutanal, ethyl propionate, ethyl 2-methylpropionate, ethyl butyrate, ethyl 2-methyl butyrate, hexanal, 1-butanol, 3-methylbutyl acetate, 2-methylbutyl acetate, 1-propyl butyrate, ethyl pentanoate, amyl acetate, 2-methyl-1-butanol, trans-2-hexenal, ethyl hexanoate, hexanol.\n",
    "\"\"\"\n",
    "\n",
    "#Contains the documents\n",
    "docs=[wiki_apple]\n",
    "\n",
    "docs_sections=[]\n",
    "for doc in docs:\n",
    "    sections_pos=find_sentence_sep_indices(doc)\n",
    "    print(sections_pos)\n",
    "    docs_sections.append(sections_pos)\n",
    "\n",
    "#Contains the documents, but splitted each sentence by sentence\n",
    "docs_sent_by_sent=[]\n",
    "for doc in docs:\n",
    "    doc_t=doc.replace('<SECTION_SEP>','')\n",
    "    doc_t=doc.replace('\\r', '').replace('\\n', '')\n",
    "    print(doc_t)\n",
    "    doc_splitted=doc_t.split('<SENTENCE_SEP>')\n",
    "    print(doc_splitted)\n",
    "    docs_sent_by_sent.append(doc_splitted)\n",
    "\n",
    "\n",
    "\n",
    "\n",
    "\n",
    "#Number of sentence considered in a block\n",
    "N_BLOCK=2\n"
   ]
  }
 ],
 "metadata": {
  "kernelspec": {
   "display_name": ".venv",
   "language": "python",
   "name": "python3"
  },
  "language_info": {
   "codemirror_mode": {
    "name": "ipython",
    "version": 3
   },
   "file_extension": ".py",
   "mimetype": "text/x-python",
   "name": "python",
   "nbconvert_exporter": "python",
   "pygments_lexer": "ipython3",
   "version": "3.10.0"
  }
 },
 "nbformat": 4,
 "nbformat_minor": 2
}
