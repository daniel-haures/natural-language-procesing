{
 "cells": [
  {
   "cell_type": "code",
   "execution_count": 1,
   "metadata": {},
   "outputs": [],
   "source": [
    "import pandas as pd\n",
    "from nltk.tokenize import word_tokenize\n",
    "from nltk.corpus import stopwords\n",
    "from nltk.stem import PorterStemmer\n",
    "\n"
   ]
  },
  {
   "cell_type": "code",
   "execution_count": 1,
   "metadata": {},
   "outputs": [
    {
     "ename": "NameError",
     "evalue": "name 'stopwords' is not defined",
     "output_type": "error",
     "traceback": [
      "\u001b[1;31m---------------------------------------------------------------------------\u001b[0m",
      "\u001b[1;31mNameError\u001b[0m                                 Traceback (most recent call last)",
      "Cell \u001b[1;32mIn[1], line 1\u001b[0m\n\u001b[1;32m----> 1\u001b[0m stop \u001b[38;5;241m=\u001b[39m \u001b[43mstopwords\u001b[49m\u001b[38;5;241m.\u001b[39mwords(\u001b[38;5;124m'\u001b[39m\u001b[38;5;124menglish\u001b[39m\u001b[38;5;124m'\u001b[39m)\n\u001b[0;32m      2\u001b[0m char_rem \u001b[38;5;241m=\u001b[39m \u001b[38;5;28mlist\u001b[39m(\u001b[38;5;28mset\u001b[39m(\u001b[38;5;124m\"\u001b[39m\u001b[38;5;124m#$\u001b[39m\u001b[38;5;124m%\u001b[39m\u001b[38;5;124m'\u001b[39m\u001b[38;5;124m()*+,./:;<=>?[\u001b[39m\u001b[38;5;124m\\\u001b[39m\u001b[38;5;124m]^_`\u001b[39m\u001b[38;5;124m{\u001b[39m\u001b[38;5;124m|}~\u001b[39m\u001b[38;5;124m\"\u001b[39m \u001b[38;5;241m+\u001b[39m \u001b[38;5;124m\"\u001b[39m\u001b[38;5;124m“\u001b[39m\u001b[38;5;124m\"\u001b[39m \u001b[38;5;241m+\u001b[39m \u001b[38;5;124m\"\u001b[39m\u001b[38;5;124m”\u001b[39m\u001b[38;5;124m\"\u001b[39m))\n\u001b[0;32m      3\u001b[0m portstemmer \u001b[38;5;241m=\u001b[39m PorterStemmer()\n",
      "\u001b[1;31mNameError\u001b[0m: name 'stopwords' is not defined"
     ]
    }
   ],
   "source": [
    "stop = stopwords.words('english')\n",
    "char_rem = list(set(\"#$%'()*+,./:;<=>?[\\]^_`{|}~\" + \"“\" + \"”\"))\n",
    "portstemmer = PorterStemmer()\n",
    "definitions=pd.read_csv('data\\\\TLN-definitions-24.csv')\n",
    "definitions=definitions.drop('Annotator', axis=1)\n",
    "definitions=definitions.dropna()\n",
    "definitions=definitions.map(lambda x: word_tokenize(str(x).lower()))\n",
    "definitions=definitions.map(lambda x: [item for item in x if(item not in stop and item not in char_rem)])\n",
    "definitions=definitions.map(lambda x: {portstemmer.stem(y) for y in x})\n",
    "display(definitions)"
   ]
  },
  {
   "cell_type": "code",
   "execution_count": 3,
   "metadata": {},
   "outputs": [
    {
     "name": "stdout",
     "output_type": "stream",
     "text": [
      "['pen', 'cigarette', 'cloud', 'ontology']\n",
      "\n",
      "\n",
      "            Astratto    Concreto\n",
      "Generico     cloud      pen\n",
      "Specifico    ontology   cigarette\n",
      "\n",
      "\n",
      "            Astratto    Concreto\n",
      "Generico     0.1571     0.5926\n",
      "Specifico    0.1971     0.3594\n"
     ]
    }
   ],
   "source": [
    "col_words = list(definitions.columns.values)\n",
    "tot_cardinality=[]\n",
    "for word in col_words:\n",
    "    single_cardinality=[]\n",
    "    for meaning1 in definitions[word]:\n",
    "        for meaning2 in definitions[word]:\n",
    "            if(meaning1!=meaning2):\n",
    "                numerator=meaning1.intersection(meaning2)\n",
    "                score=len(numerator)/min(len(meaning1),len(meaning2))\n",
    "                single_cardinality.append(score)\n",
    "    tot_cardinality.append(single_cardinality)\n",
    "\n",
    "results=[]\n",
    "for word_cardinality in tot_cardinality:\n",
    "    result= round(sum(word_cardinality) / len(word_cardinality), 4)\n",
    "    results.append(result)\n",
    "\n",
    "print('\\n')\n",
    "print('            Astratto    Concreto')\n",
    "print('Generico    ', col_words[2], '    ',col_words[0])\n",
    "print('Specifico   ', col_words[3], ' ', col_words[1])\n",
    "print('\\n')\n",
    "print('            Astratto    Concreto')\n",
    "print('Generico    ', results[2], '   ',results[0])\n",
    "print('Specifico   ', results[3], '   ', results[1])"
   ]
  }
 ],
 "metadata": {
  "kernelspec": {
   "display_name": ".venv",
   "language": "python",
   "name": "python3"
  },
  "language_info": {
   "codemirror_mode": {
    "name": "ipython",
    "version": 3
   },
   "file_extension": ".py",
   "mimetype": "text/x-python",
   "name": "python",
   "nbconvert_exporter": "python",
   "pygments_lexer": "ipython3",
   "version": "3.10.0"
  }
 },
 "nbformat": 4,
 "nbformat_minor": 2
}
