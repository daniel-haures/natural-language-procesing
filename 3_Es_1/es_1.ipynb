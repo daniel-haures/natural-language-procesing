{
 "cells": [
  {
   "cell_type": "code",
   "execution_count": 25,
   "metadata": {},
   "outputs": [],
   "source": [
    "from sentence_transformers import SentenceTransformer, util\n",
    "import pandas as pd\n",
    "import itertools\n",
    "model = SentenceTransformer('all-mpnet-base-v2')"
   ]
  },
  {
   "cell_type": "code",
   "execution_count": 36,
   "metadata": {},
   "outputs": [
    {
     "name": "stdout",
     "output_type": "stream",
     "text": [
      "processing definitions of word number 0\n",
      "processing definitions of word number 1\n",
      "processing definitions of word number 2\n",
      "processing definitions of word number 3\n",
      "[tensor([[0.7316]]), tensor([[0.7130]]), tensor([[0.4592]]), tensor([[0.5505]])]\n"
     ]
    }
   ],
   "source": [
    "csv=pd.read_csv('definitions.csv')[:14]\n",
    "\n",
    "definitions=[]\n",
    "\n",
    "definitions.append(csv[\"pen\"].astype(str).tolist())\n",
    "definitions.append(csv[\"cigarette\"].astype(str).tolist())\n",
    "definitions.append(csv[\"cloud\"].astype(str).tolist())\n",
    "definitions.append(csv[\"ontology\"].astype(str).tolist())\n",
    "\n",
    "for i in range(0,4):\n",
    "    definitions[i] = list(filter(lambda s: len(s.split()) > 6, definitions[i]))\n",
    "\n",
    "definitions_corelation=[]\n",
    "\n",
    "for i in range(0,4):\n",
    "    print(\"processing definitions of word number \"+str(i))\n",
    "    combinations=list(itertools.combinations(definitions[i],2))\n",
    "    similarity=0\n",
    "    for tuple in combinations:\n",
    "        encoded_0 = model.encode(tuple[0])\n",
    "        encoded_1 = model.encode(tuple[1])\n",
    "        similarity = similarity + util.pytorch_cos_sim(encoded_0,encoded_1)\n",
    "    definitions_corelation.append(similarity/len(combinations))\n",
    "\n",
    "print(definitions_corelation)"
   ]
  },
  {
   "cell_type": "code",
   "execution_count": 8,
   "metadata": {},
   "outputs": [
    {
     "name": "stderr",
     "output_type": "stream",
     "text": [
      "\n",
      "\u001b[A"
     ]
    },
    {
     "ename": "ValueError",
     "evalue": "'Sort by:' is not in list",
     "output_type": "error",
     "traceback": [
      "\u001b[1;31m---------------------------------------------------------------------------\u001b[0m",
      "\u001b[1;31mValueError\u001b[0m                                Traceback (most recent call last)",
      "Cell \u001b[1;32mIn[8], line 4\u001b[0m\n\u001b[0;32m      1\u001b[0m \u001b[38;5;28;01mfrom\u001b[39;00m \u001b[38;5;21;01mgoogle_flight_analysis\u001b[39;00m\u001b[38;5;21;01m.\u001b[39;00m\u001b[38;5;21;01mscrape\u001b[39;00m \u001b[38;5;28;01mimport\u001b[39;00m \u001b[38;5;241m*\u001b[39m\n\u001b[0;32m      3\u001b[0m results \u001b[38;5;241m=\u001b[39m Scrape(\u001b[38;5;124m'\u001b[39m\u001b[38;5;124mJFK\u001b[39m\u001b[38;5;124m'\u001b[39m, \u001b[38;5;124m'\u001b[39m\u001b[38;5;124mIST\u001b[39m\u001b[38;5;124m'\u001b[39m, \u001b[38;5;124m'\u001b[39m\u001b[38;5;124m2023-08-20\u001b[39m\u001b[38;5;124m'\u001b[39m)\n\u001b[1;32m----> 4\u001b[0m \u001b[43mScrapeObjects\u001b[49m\u001b[43m(\u001b[49m\u001b[43mresults\u001b[49m\u001b[43m)\u001b[49m\n\u001b[0;32m      5\u001b[0m results\u001b[38;5;241m.\u001b[39mdata \u001b[38;5;66;03m#see data\u001b[39;00m\n",
      "File \u001b[1;32mc:\\Users\\danie\\.venv\\lib\\site-packages\\google_flight_analysis\\scrape.py:39\u001b[0m, in \u001b[0;36mScrapeObjects\u001b[1;34m(objs, deep_copy)\u001b[0m\n\u001b[0;32m     36\u001b[0m driver\u001b[38;5;241m.\u001b[39mmaximize_window()\n\u001b[0;32m     38\u001b[0m \u001b[38;5;66;03m# modifies the objects in-place\u001b[39;00m\n\u001b[1;32m---> 39\u001b[0m debug \u001b[38;5;241m=\u001b[39m [obj\u001b[38;5;241m.\u001b[39m_scrape_data(driver) \u001b[38;5;28;01mfor\u001b[39;00m obj \u001b[38;5;129;01min\u001b[39;00m tqdm(objs, desc\u001b[38;5;241m=\u001b[39m\u001b[38;5;124m\"\u001b[39m\u001b[38;5;124mScraping Objects\u001b[39m\u001b[38;5;124m\"\u001b[39m)]\n\u001b[0;32m     41\u001b[0m driver\u001b[38;5;241m.\u001b[39mquit()\n\u001b[0;32m     43\u001b[0m \u001b[38;5;28;01mif\u001b[39;00m deep_copy:\n",
      "File \u001b[1;32mc:\\Users\\danie\\.venv\\lib\\site-packages\\google_flight_analysis\\scrape.py:39\u001b[0m, in \u001b[0;36m<listcomp>\u001b[1;34m(.0)\u001b[0m\n\u001b[0;32m     36\u001b[0m driver\u001b[38;5;241m.\u001b[39mmaximize_window()\n\u001b[0;32m     38\u001b[0m \u001b[38;5;66;03m# modifies the objects in-place\u001b[39;00m\n\u001b[1;32m---> 39\u001b[0m debug \u001b[38;5;241m=\u001b[39m [\u001b[43mobj\u001b[49m\u001b[38;5;241;43m.\u001b[39;49m\u001b[43m_scrape_data\u001b[49m\u001b[43m(\u001b[49m\u001b[43mdriver\u001b[49m\u001b[43m)\u001b[49m \u001b[38;5;28;01mfor\u001b[39;00m obj \u001b[38;5;129;01min\u001b[39;00m tqdm(objs, desc\u001b[38;5;241m=\u001b[39m\u001b[38;5;124m\"\u001b[39m\u001b[38;5;124mScraping Objects\u001b[39m\u001b[38;5;124m\"\u001b[39m)]\n\u001b[0;32m     41\u001b[0m driver\u001b[38;5;241m.\u001b[39mquit()\n\u001b[0;32m     43\u001b[0m \u001b[38;5;28;01mif\u001b[39;00m deep_copy:\n",
      "File \u001b[1;32mc:\\Users\\danie\\.venv\\lib\\site-packages\\google_flight_analysis\\scrape.py:377\u001b[0m, in \u001b[0;36m_Scrape._scrape_data\u001b[1;34m(self, driver)\u001b[0m\n\u001b[0;32m    376\u001b[0m \u001b[38;5;28;01mdef\u001b[39;00m \u001b[38;5;21m_scrape_data\u001b[39m(\u001b[38;5;28mself\u001b[39m, driver):\n\u001b[1;32m--> 377\u001b[0m \tresults \u001b[38;5;241m=\u001b[39m [\u001b[38;5;28mself\u001b[39m\u001b[38;5;241m.\u001b[39m_get_results(url, \u001b[38;5;28mself\u001b[39m\u001b[38;5;241m.\u001b[39m_date[i], driver) \u001b[38;5;28;01mfor\u001b[39;00m i, url \u001b[38;5;129;01min\u001b[39;00m \u001b[38;5;28menumerate\u001b[39m(\u001b[38;5;28mself\u001b[39m\u001b[38;5;241m.\u001b[39m_url)]\n\u001b[0;32m    378\u001b[0m \t\u001b[38;5;28mself\u001b[39m\u001b[38;5;241m.\u001b[39m_data \u001b[38;5;241m=\u001b[39m pd\u001b[38;5;241m.\u001b[39mconcat(results, ignore_index \u001b[38;5;241m=\u001b[39m \u001b[38;5;28;01mTrue\u001b[39;00m)\n",
      "File \u001b[1;32mc:\\Users\\danie\\.venv\\lib\\site-packages\\google_flight_analysis\\scrape.py:377\u001b[0m, in \u001b[0;36m<listcomp>\u001b[1;34m(.0)\u001b[0m\n\u001b[0;32m    376\u001b[0m \u001b[38;5;28;01mdef\u001b[39;00m \u001b[38;5;21m_scrape_data\u001b[39m(\u001b[38;5;28mself\u001b[39m, driver):\n\u001b[1;32m--> 377\u001b[0m \tresults \u001b[38;5;241m=\u001b[39m [\u001b[38;5;28;43mself\u001b[39;49m\u001b[38;5;241;43m.\u001b[39;49m\u001b[43m_get_results\u001b[49m\u001b[43m(\u001b[49m\u001b[43murl\u001b[49m\u001b[43m,\u001b[49m\u001b[43m \u001b[49m\u001b[38;5;28;43mself\u001b[39;49m\u001b[38;5;241;43m.\u001b[39;49m\u001b[43m_date\u001b[49m\u001b[43m[\u001b[49m\u001b[43mi\u001b[49m\u001b[43m]\u001b[49m\u001b[43m,\u001b[49m\u001b[43m \u001b[49m\u001b[43mdriver\u001b[49m\u001b[43m)\u001b[49m \u001b[38;5;28;01mfor\u001b[39;00m i, url \u001b[38;5;129;01min\u001b[39;00m \u001b[38;5;28menumerate\u001b[39m(\u001b[38;5;28mself\u001b[39m\u001b[38;5;241m.\u001b[39m_url)]\n\u001b[0;32m    378\u001b[0m \t\u001b[38;5;28mself\u001b[39m\u001b[38;5;241m.\u001b[39m_data \u001b[38;5;241m=\u001b[39m pd\u001b[38;5;241m.\u001b[39mconcat(results, ignore_index \u001b[38;5;241m=\u001b[39m \u001b[38;5;28;01mTrue\u001b[39;00m)\n",
      "File \u001b[1;32mc:\\Users\\danie\\.venv\\lib\\site-packages\\google_flight_analysis\\scrape.py:405\u001b[0m, in \u001b[0;36m_Scrape._get_results\u001b[1;34m(url, date, driver)\u001b[0m\n\u001b[0;32m    399\u001b[0m \t\u001b[38;5;28mprint\u001b[39m(\n\u001b[0;32m    400\u001b[0m \u001b[38;5;250m\t\t\u001b[39m\u001b[38;5;124;03m'''TimeoutException, try again and check your internet connection!\\n\u001b[39;00m\n\u001b[0;32m    401\u001b[0m \u001b[38;5;124;03m\t\tAlso possible that no flights exist for your query :('''\u001b[39;00m\u001b[38;5;241m.\u001b[39mreplace(\u001b[38;5;124m'\u001b[39m\u001b[38;5;130;01m\\t\u001b[39;00m\u001b[38;5;124m'\u001b[39m,\u001b[38;5;124m'\u001b[39m\u001b[38;5;124m'\u001b[39m)\n\u001b[0;32m    402\u001b[0m \t)\n\u001b[0;32m    403\u001b[0m \t\u001b[38;5;28;01mreturn\u001b[39;00m \u001b[38;5;241m-\u001b[39m\u001b[38;5;241m1\u001b[39m\n\u001b[1;32m--> 405\u001b[0m flights \u001b[38;5;241m=\u001b[39m \u001b[43m_Scrape\u001b[49m\u001b[38;5;241;43m.\u001b[39;49m\u001b[43m_clean_results\u001b[49m\u001b[43m(\u001b[49m\u001b[43mresults\u001b[49m\u001b[43m,\u001b[49m\u001b[43m \u001b[49m\u001b[43mdate\u001b[49m\u001b[43m)\u001b[49m\n\u001b[0;32m    406\u001b[0m \u001b[38;5;28;01mreturn\u001b[39;00m Flight\u001b[38;5;241m.\u001b[39mdataframe(flights)\n",
      "File \u001b[1;32mc:\\Users\\danie\\.venv\\lib\\site-packages\\google_flight_analysis\\scrape.py:412\u001b[0m, in \u001b[0;36m_Scrape._clean_results\u001b[1;34m(result, date)\u001b[0m\n\u001b[0;32m    408\u001b[0m \u001b[38;5;129m@staticmethod\u001b[39m\n\u001b[0;32m    409\u001b[0m \u001b[38;5;28;01mdef\u001b[39;00m \u001b[38;5;21m_clean_results\u001b[39m(result, date):\n\u001b[0;32m    410\u001b[0m \tres2 \u001b[38;5;241m=\u001b[39m [x\u001b[38;5;241m.\u001b[39mencode(\u001b[38;5;124m\"\u001b[39m\u001b[38;5;124mascii\u001b[39m\u001b[38;5;124m\"\u001b[39m, \u001b[38;5;124m\"\u001b[39m\u001b[38;5;124mignore\u001b[39m\u001b[38;5;124m\"\u001b[39m)\u001b[38;5;241m.\u001b[39mdecode()\u001b[38;5;241m.\u001b[39mstrip() \u001b[38;5;28;01mfor\u001b[39;00m x \u001b[38;5;129;01min\u001b[39;00m result]\n\u001b[1;32m--> 412\u001b[0m \tstart \u001b[38;5;241m=\u001b[39m \u001b[43mres2\u001b[49m\u001b[38;5;241;43m.\u001b[39;49m\u001b[43mindex\u001b[49m\u001b[43m(\u001b[49m\u001b[38;5;124;43m\"\u001b[39;49m\u001b[38;5;124;43mSort by:\u001b[39;49m\u001b[38;5;124;43m\"\u001b[39;49m\u001b[43m)\u001b[49m\u001b[38;5;241m+\u001b[39m\u001b[38;5;241m1\u001b[39m\n\u001b[0;32m    413\u001b[0m \tmid_start \u001b[38;5;241m=\u001b[39m res2\u001b[38;5;241m.\u001b[39mindex(\u001b[38;5;124m\"\u001b[39m\u001b[38;5;124mPrice insights\u001b[39m\u001b[38;5;124m\"\u001b[39m)\n\u001b[0;32m    414\u001b[0m \tmid_end \u001b[38;5;241m=\u001b[39m \u001b[38;5;241m-\u001b[39m\u001b[38;5;241m1\u001b[39m\n",
      "\u001b[1;31mValueError\u001b[0m: 'Sort by:' is not in list"
     ]
    }
   ],
   "source": [
    "from google_flight_analysis.scrape import *\n",
    "\n",
    "results = Scrape('JFK', 'IST', '2023-08-20')\n",
    "ScrapeObjects(results)\n",
    "results.data #see data"
   ]
  }
 ],
 "metadata": {
  "kernelspec": {
   "display_name": ".venv",
   "language": "python",
   "name": "python3"
  },
  "language_info": {
   "codemirror_mode": {
    "name": "ipython",
    "version": 3
   },
   "file_extension": ".py",
   "mimetype": "text/x-python",
   "name": "python",
   "nbconvert_exporter": "python",
   "pygments_lexer": "ipython3",
   "version": "3.10.0"
  }
 },
 "nbformat": 4,
 "nbformat_minor": 2
}
