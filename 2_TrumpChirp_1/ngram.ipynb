{
 "cells": [
  {
   "cell_type": "code",
   "execution_count": null,
   "metadata": {},
   "outputs": [],
   "source": [
    "import scipy\n",
    "import pandas as pd\n",
    "import numpy as np\n",
    "import csv\n",
    "pd.set_option(\"max_rows\",None)\n"
   ]
  },
  {
   "cell_type": "code",
   "execution_count": null,
   "metadata": {},
   "outputs": [],
   "source": [
    "tweet_df=pd.read_csv('data\\\\tweets.csv')\n",
    "#display(tweet_df)\n",
    "\n",
    "tweet_df=tweet_df[tweet_df['is_retweet'] == False]\n",
    "display(tweet_df)\n",
    "#def cleaning(sentence):\n",
    "    # Gestire nomi prima di to.lower\n",
    "    # gli hhtps://\n",
    "    # aperte virgolette =retweet , chiuse allora ha risposto, nessuna\n",
    "    # menzioni scambiare con they(?)\n",
    "    # numeri e punteggiatura\n",
    "\n",
    "\n",
    "     "
   ]
  },
  {
   "cell_type": "code",
   "execution_count": null,
   "metadata": {},
   "outputs": [],
   "source": []
  }
 ],
 "metadata": {
  "kernelspec": {
   "display_name": ".venv",
   "language": "python",
   "name": "python3"
  },
  "language_info": {
   "codemirror_mode": {
    "name": "ipython",
    "version": 3
   },
   "file_extension": ".py",
   "mimetype": "text/x-python",
   "name": "python",
   "nbconvert_exporter": "python",
   "pygments_lexer": "ipython3",
   "version": "3.9.0"
  }
 },
 "nbformat": 4,
 "nbformat_minor": 2
}
