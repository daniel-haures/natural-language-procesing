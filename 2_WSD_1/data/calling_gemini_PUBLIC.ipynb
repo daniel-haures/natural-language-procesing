{
  "cells": [
    {
      "cell_type": "code",
      "execution_count": 1,
      "metadata": {
        "id": "jhZ3faZ241aD"
      },
      "outputs": [],
      "source": [
        "import google.generativeai as genai\n",
        "\n",
        "# type your api key \n",
        "genai.configure(api_key=\"API_KEY\")"
      ]
    },
    {
      "cell_type": "markdown",
      "metadata": {
        "id": "qQvZFLO__Fkc"
      },
      "source": [
        "### settings"
      ]
    },
    {
      "cell_type": "code",
      "execution_count": 4,
      "metadata": {
        "id": "vofJZ25z47mb"
      },
      "outputs": [],
      "source": [
        "# Set up the model\n",
        "generation_config = {\n",
        "  \"temperature\": 0.7,\n",
        "  \"top_p\": 0.9,\n",
        "  \"top_k\": 1,\n",
        "  \"max_output_tokens\": 2048,\n",
        "}\n",
        "\n",
        "safety_settings = [\n",
        "  {\n",
        "    \"category\": \"HARM_CATEGORY_HARASSMENT\",\n",
        "    \"threshold\": \"BLOCK_MEDIUM_AND_ABOVE\"\n",
        "  },\n",
        "  {\n",
        "    \"category\": \"HARM_CATEGORY_HATE_SPEECH\",\n",
        "    \"threshold\": \"BLOCK_MEDIUM_AND_ABOVE\"\n",
        "  },\n",
        "  {\n",
        "    \"category\": \"HARM_CATEGORY_SEXUALLY_EXPLICIT\",\n",
        "    \"threshold\": \"BLOCK_MEDIUM_AND_ABOVE\"\n",
        "  },\n",
        "  {\n",
        "    \"category\": \"HARM_CATEGORY_DANGEROUS_CONTENT\",\n",
        "    \"threshold\": \"BLOCK_MEDIUM_AND_ABOVE\"\n",
        "  },\n",
        "]"
      ]
    },
    {
      "cell_type": "markdown",
      "metadata": {
        "id": "0mXkREF4_K5D"
      },
      "source": [
        "### create the model"
      ]
    },
    {
      "cell_type": "code",
      "execution_count": 5,
      "metadata": {
        "id": "4LDIZoka4-JF"
      },
      "outputs": [],
      "source": [
        "model = genai.GenerativeModel(model_name=\"gemini-1.0-pro\",\n",
        "                              generation_config=generation_config,\n",
        "                              safety_settings=safety_settings)\n"
      ]
    },
    {
      "cell_type": "markdown",
      "metadata": {
        "id": "a1nh5RWN_O60"
      },
      "source": [
        "### set-up prompt(s)"
      ]
    },
    {
      "cell_type": "code",
      "execution_count": 12,
      "metadata": {
        "id": "2PmTdBm45NBH"
      },
      "outputs": [],
      "source": [
        "prompt_parts = [\n",
        "  \"write a sonnet on studying language technologies and NLP\"\n",
        "]"
      ]
    },
    {
      "cell_type": "markdown",
      "metadata": {
        "id": "x-0pSRp__Rsj"
      },
      "source": [
        "### get generated text"
      ]
    },
    {
      "cell_type": "code",
      "execution_count": 13,
      "metadata": {
        "colab": {
          "base_uri": "https://localhost:8080/",
          "height": 374
        },
        "id": "PiSg_wMA5Rwr",
        "outputId": "6b180c5e-7120-4567-cb3e-1c416852bfb1"
      },
      "outputs": [
        {
          "name": "stdout",
          "output_type": "stream",
          "text": [
            "**Ode to Language's Tech and NLP's Grace**\n",
            "\n",
            "In realms of code, where knowledge takes its flight,\n",
            "Language technologies, a beacon bright.\n",
            "NLP's embrace, a symphony of might,\n",
            "Unveiling secrets hidden from our sight.\n",
            "\n",
            "With algorithms, we delve into the deep,\n",
            "Exploring patterns that the mind can keep.\n",
            "From syntax to semantics, a boundless leap,\n",
            "Machine and human, in harmony they steep.\n",
            "\n",
            "We train our models on a vast array\n",
            "Of texts and speech, to learn and to convey.\n",
            "From sentiment analysis to machine translation,\n",
            "NLP empowers us, a digital elation.\n",
            "\n",
            "Oh, language's tech and NLP's embrace,\n",
            "A transformative dance, a linguistic chase.\n",
            "May we forever delve into its grace,\n",
            "Unveiling the mysteries of human space.\n"
          ]
        }
      ],
      "source": [
        "response = model.generate_content(prompt_parts)\n",
        "print(response.text)"
      ]
    },
    {
      "cell_type": "code",
      "execution_count": null,
      "metadata": {
        "id": "YtnNjApr5UbT"
      },
      "outputs": [],
      "source": []
    }
  ],
  "metadata": {
    "colab": {
      "provenance": []
    },
    "kernelspec": {
      "display_name": "Python 3",
      "name": "python3"
    },
    "language_info": {
      "name": "python"
    }
  },
  "nbformat": 4,
  "nbformat_minor": 0
}
