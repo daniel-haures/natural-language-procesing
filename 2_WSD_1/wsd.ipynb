{
 "cells": [
  {
   "cell_type": "code",
   "execution_count": 7,
   "metadata": {},
   "outputs": [],
   "source": [
    "import nltk\n",
    "import pandas as pd\n",
    "import numpy as np\n",
    "from nltk.corpus import wordnet as wn\n",
    "from nltk.corpus import semcor\n",
    "\n",
    "from nltk.stem import PorterStemmer\n",
    "from nltk.tokenize import word_tokenize\n",
    "from nltk.stem import WordNetLemmatizer\n",
    "from libs.lesk import *"
   ]
  },
  {
   "cell_type": "code",
   "execution_count": 8,
   "metadata": {},
   "outputs": [],
   "source": [
    "#return synset of a sentence in semcor\n",
    "def synset_list(sent):\n",
    "    synsets=[]\n",
    "    for l in sent:\n",
    "        if isinstance(l, nltk.tree.Tree):\n",
    "            if isinstance(l.label(), str):\n",
    "                synsets.append(wn.synset(l.label()))\n",
    "            else:    \n",
    "                synsets.append(l.label().synset())\n",
    "    return synsets\n",
    "\n",
    "#return word of a sentence in semcor (selecting only those with a synset)\n",
    "def word_list(sent):\n",
    "    words=[]\n",
    "    for l in sent:\n",
    "        if isinstance(l, nltk.tree.Tree):\n",
    "            words.append(' '.join(l.leaves()))\n",
    "    return words\n",
    "\n",
    "#contiene per ogni frase i synset che la compongono\n",
    "semcor_synsets=[]\n",
    "#contiene per ogni frase le parole(token) che la compongono\n",
    "semcor_words=[]\n",
    "\n",
    "for i in range(0,53):\n",
    "    #Ho escluso le frasi che non sono annotate bene (synset sbagliati),\n",
    "    #da capire se l'errore è causato dalla versione di semcor\n",
    "    if i!=7 and i!=40 and i!=45 and i!=46 and i!=61 and i!=78 and i!=80:\n",
    "        semcor_synsets.append(synset_list(semcor.tagged_sents(tag=\"sem\")[i]))\n",
    "        semcor_words.append(word_list(semcor.tagged_sents(tag=\"sem\")[i]))\n",
    "\n",
    "\n",
    "\n",
    "\n",
    "\n"
   ]
  },
  {
   "cell_type": "code",
   "execution_count": 9,
   "metadata": {},
   "outputs": [
    {
     "name": "stdout",
     "output_type": "stream",
     "text": [
      "Accuracy di tutte e 50 le frasi:  0.4688888888888889\n",
      "accuracy di 10 frasi:  0.5\n"
     ]
    }
   ],
   "source": [
    "#display(semcor_synsets)\n",
    "#display(semcor_words)\n",
    "wn.get_version()\n",
    "\n",
    "good=0\n",
    "bad=0\n",
    "for i, sentence in enumerate(semcor_words, start=0):\n",
    "    for j,word in enumerate(sentence, start=0):\n",
    "        if(wn.synsets(word)):\n",
    "            predicted=lesk_algorithm(word,' '.join(sentence))\n",
    "            if(predicted==semcor_synsets[i][j]):\n",
    "                good+=1\n",
    "            else:\n",
    "                bad+=1\n",
    "print(\"Accuracy di tutte e 50 le frasi: \",good/(good+bad))\n",
    "\n",
    "good=0\n",
    "bad=0\n",
    "for i in range(0,10):\n",
    "    random_row=random.randint(0,49)\n",
    "    row=semcor_words[random_row]\n",
    "    random_word=random.randint(0,len(row)-1)\n",
    "    word=row[random_word]\n",
    "    if(wn.synsets(word)):\n",
    "            predicted=lesk_algorithm(word,' '.join(row))\n",
    "            if(predicted==semcor_synsets[random_row][random_word]):\n",
    "                good+=1\n",
    "            else:\n",
    "                bad+=1\n",
    "print(\"accuracy di 10 frasi: \",good/(good+bad))\n",
    "               \n",
    "            \n",
    "        \n",
    "    \n"
   ]
  }
 ],
 "metadata": {
  "kernelspec": {
   "display_name": ".venv",
   "language": "python",
   "name": "python3"
  },
  "language_info": {
   "codemirror_mode": {
    "name": "ipython",
    "version": 3
   },
   "file_extension": ".py",
   "mimetype": "text/x-python",
   "name": "python",
   "nbconvert_exporter": "python",
   "pygments_lexer": "ipython3",
   "version": "3.9.0"
  }
 },
 "nbformat": 4,
 "nbformat_minor": 2
}
