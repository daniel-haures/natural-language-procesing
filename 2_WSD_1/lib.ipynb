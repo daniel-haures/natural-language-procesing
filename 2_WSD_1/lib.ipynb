{
 "cells": [
  {
   "cell_type": "code",
   "execution_count": 98,
   "metadata": {},
   "outputs": [],
   "source": [
    "import nltk\n",
    "import scipy\n",
    "import pandas as pd\n",
    "import numpy as np\n",
    "\n",
    "import csv\n",
    "from nltk.corpus import wordnet as wn\n",
    "from libs import *"
   ]
  },
  {
   "cell_type": "code",
   "execution_count": 122,
   "metadata": {},
   "outputs": [],
   "source": [
    "\n",
    "#Wu & Palmer similarity\n",
    "#def wu_similarity(v1,v2):\n",
    "\n",
    "\n",
    "#Shortest Path similarity\n",
    "#def sp_similarity(v1,v2):\n",
    "\n",
    "\n",
    "#Leak & Chod\n",
    "#def lch_similarity(v1,v2):\n",
    "\n",
    "\n",
    "\n",
    "def LCS(s1,s2):\n",
    "    s1_set = {str(s1)}\n",
    "    s2_set = {str(s2)}\n",
    "    s1_to_expand = [s1]\n",
    "    s2_to_expand = [s2]\n",
    "    matches=[]\n",
    "    while not matches and (s1_to_expand or s2_to_expand):\n",
    "        for s1_ext in s1_to_expand:\n",
    "            if(str(s1_ext) in s2_set):\n",
    "                matches.append(s1_ext)\n",
    "            else:\n",
    "                for s1_hypr in s1_ext.hypernyms():\n",
    "                    s1_set.add(str(s1_hypr))\n",
    "                    s1_to_expand.append(s1_hypr)\n",
    "            s1_to_expand.remove(s1_ext) \n",
    "    \n",
    "    \n",
    "        for s2_ext in s2_to_expand:\n",
    "            if(str(s2_ext) in s1_set):\n",
    "                matches.append(s2_ext)\n",
    "            else:\n",
    "                for s2_hypr in s2_ext.hypernyms():\n",
    "                    s2_set.add(str(s2_hypr))\n",
    "                    s2_to_expand.append(s2_hypr)\n",
    "            s2_to_expand.remove(s2_ext)\n",
    "    \n",
    "    if (matches):\n",
    "        #min(common_hypernyms, key=lambda x: x.shortest_path_distance(synset1) + x.shortest_path_distance(synset2))\n",
    "        min=matches[0]\n",
    "        for actual in matches:\n",
    "            value_min=s1.shortest_path_distance(min) + s2.shortest_path_distance(min)\n",
    "            value_actual=s1.shortest_path_distance(actual) + s2.shortest_path_distance(actual)\n",
    "            if(actual<min):\n",
    "                min=actual\n",
    "        return min\n",
    "    else:\n",
    "        return []\n"
   ]
  },
  {
   "cell_type": "code",
   "execution_count": 123,
   "metadata": {},
   "outputs": [
    {
     "name": "stdout",
     "output_type": "stream",
     "text": [
      "Synset('physical_entity.n.01')\n",
      "[Synset('physical_entity.n.01')]\n"
     ]
    }
   ],
   "source": [
    "tiger=wn.synsets('banana')\n",
    "cat=wn.synsets('dynamite')\n",
    "print(LCS(tiger[0],cat[0]))\n",
    "print(tiger[0].lowest_common_hypernyms(cat[0]))"
   ]
  }
 ],
 "metadata": {
  "kernelspec": {
   "display_name": ".venv",
   "language": "python",
   "name": "python3"
  },
  "language_info": {
   "codemirror_mode": {
    "name": "ipython",
    "version": 3
   },
   "file_extension": ".py",
   "mimetype": "text/x-python",
   "name": "python",
   "nbconvert_exporter": "python",
   "pygments_lexer": "ipython3",
   "version": "3.12.1"
  }
 },
 "nbformat": 4,
 "nbformat_minor": 2
}
