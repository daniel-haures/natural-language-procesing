{
 "cells": [
  {
   "cell_type": "code",
   "execution_count": null,
   "metadata": {},
   "outputs": [],
   "source": [
    "import nltk\n",
    "import scipy\n",
    "import pandas as pd\n",
    "import numpy as np\n",
    "\n",
    "import csv\n",
    "from nltk.corpus import wordnet as wn\n",
    "from libs import *"
   ]
  },
  {
   "cell_type": "code",
   "execution_count": null,
   "metadata": {},
   "outputs": [],
   "source": [
    "for i in range(0,353):\n",
    "    v1 = word_sym.at[i,'Word 1']\n",
    "    v2 = word_sym.at[i,'Word 2']\n",
    "    max_wu=0\n",
    "    max_sp=0\n",
    "    max_lch=0\n",
    "    for s1 in wn.synsets(v1):\n",
    "        for s2 in wn.synsets(v2):\n",
    "            actual_wu=wu_similarity(v1,v2)\n",
    "            actual_sp=sp_similarity(v1,v2)\n",
    "            actual_lch=lch_similarity(v1,v2)\n",
    "            if actual_wu>max_wu:\n",
    "                max_wu=actual_wu\n",
    "            if actual_sp>max_sp:\n",
    "                max_sp=actual_sp\n",
    "            if actual_lch>max_lch:\n",
    "                max_lch=actual_lch\n",
    "    word_sym.iat[i,3]= max_wu\n",
    "    word_sym.iat[i,4]= max_sp\n",
    "    word_sym.iat[i,5]= max_lch\n"
   ]
  }
 ],
 "metadata": {
  "kernelspec": {
   "display_name": ".venv",
   "language": "python",
   "name": "python3"
  },
  "language_info": {
   "codemirror_mode": {
    "name": "ipython",
    "version": 3
   },
   "file_extension": ".py",
   "mimetype": "text/x-python",
   "name": "python",
   "nbconvert_exporter": "python",
   "pygments_lexer": "ipython3",
   "version": "3.12.1"
  }
 },
 "nbformat": 4,
 "nbformat_minor": 2
}
