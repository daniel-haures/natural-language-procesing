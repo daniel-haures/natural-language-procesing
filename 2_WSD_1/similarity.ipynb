{
 "cells": [
  {
   "cell_type": "code",
   "execution_count": 17,
   "metadata": {},
   "outputs": [],
   "source": [
    "import nltk\n",
    "import scipy\n",
    "import pandas as pd\n",
    "import numpy as np\n",
    "\n",
    "import csv\n",
    "from nltk.corpus import wordnet as wn"
   ]
  },
  {
   "cell_type": "code",
   "execution_count": 25,
   "metadata": {},
   "outputs": [
    {
     "name": "stdout",
     "output_type": "stream",
     "text": [
      "           Word 1    Word 2  Human (mean)  Wu & Palmer  Shortest Path  \\\n",
      "0            love       sex          6.77          0.0            0.0   \n",
      "1           tiger       cat          7.35          0.0            0.0   \n",
      "2           tiger     tiger         10.00          0.0            0.0   \n",
      "3            book     paper          7.46          0.0            0.0   \n",
      "4        computer  keyboard          7.62          0.0            0.0   \n",
      "..            ...       ...           ...          ...            ...   \n",
      "348        shower     flood          6.03          0.0            0.0   \n",
      "349       weather  forecast          8.34          0.0            0.0   \n",
      "350      disaster      area          6.25          0.0            0.0   \n",
      "351      governor    office          6.34          0.0            0.0   \n",
      "352  architecture   century          3.78          0.0            0.0   \n",
      "\n",
      "     Leak & Chod  \n",
      "0            0.0  \n",
      "1            0.0  \n",
      "2            0.0  \n",
      "3            0.0  \n",
      "4            0.0  \n",
      "..           ...  \n",
      "348          0.0  \n",
      "349          0.0  \n",
      "350          0.0  \n",
      "351          0.0  \n",
      "352          0.0  \n",
      "\n",
      "[353 rows x 6 columns]\n"
     ]
    }
   ],
   "source": [
    "#move from wordsim353 to pandas dataframe in order to process data\n",
    "word_sym=pd.read_csv('data/WordSim353.csv')\n",
    "\n",
    "#insert other similarity values to dataframe (zeros)\n",
    "word_sym.insert(3,'Wu & Palmer',np.zeros(353))\n",
    "word_sym.insert(4,'Shortest Path',np.zeros(353))\n",
    "word_sym.insert(5,'Leak & Chod',np.zeros(353))\n",
    "\n",
    "print(word_sym)\n"
   ]
  },
  {
   "cell_type": "code",
   "execution_count": null,
   "metadata": {},
   "outputs": [],
   "source": [
    "\n"
   ]
  }
 ],
 "metadata": {
  "kernelspec": {
   "display_name": ".venv",
   "language": "python",
   "name": "python3"
  },
  "language_info": {
   "codemirror_mode": {
    "name": "ipython",
    "version": 3
   },
   "file_extension": ".py",
   "mimetype": "text/x-python",
   "name": "python",
   "nbconvert_exporter": "python",
   "pygments_lexer": "ipython3",
   "version": "3.12.1"
  }
 },
 "nbformat": 4,
 "nbformat_minor": 2
}
